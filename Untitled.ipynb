{
 "cells": [
  {
   "cell_type": "code",
   "execution_count": 31,
   "id": "f201da92",
   "metadata": {},
   "outputs": [
    {
     "name": "stdout",
     "output_type": "stream",
     "text": [
      "select your choice: 1\n",
      "<function Text_to_Morse at 0x00000267C23FDC10>\n"
     ]
    }
   ],
   "source": [
    "from playsound import playsound\n",
    "import time\n",
    "import pyttsx3 as pyttsx\n",
    "\n",
    "# Dictionary representing the morse code chart\n",
    "MORSE_CODE_DICT = { 'A':'.-', 'B':'-...',\n",
    "                    'C':'-.-.', 'D':'-..', 'E':'.',\n",
    "                    'F':'..-.', 'G':'--.', 'H':'....',\n",
    "                    'I':'..', 'J':'.---', 'K':'-.-',\n",
    "                    'L':'.-..', 'M':'--', 'N':'-.',\n",
    "                    'O':'---', 'P':'.--.', 'Q':'--.-',\n",
    "                    'R':'.-.', 'S':'...', 'T':'-',\n",
    "                    'U':'..-', 'V':'...-', 'W':'.--',\n",
    "                    'X':'-..-', 'Y':'-.--', 'Z':'--..',\n",
    "                    '1':'.----', '2':'..---', '3':'...--',\n",
    "                    '4':'....-', '5':'.....', '6':'-....',\n",
    "                    '7':'--...', '8':'---..', '9':'----.',\n",
    "                    '0':'-----'}\n",
    "\n",
    "def Text_to_Morse():\n",
    "\n",
    "    message=input(\"plz enter your message \")\n",
    "    message=\" \".join(MORSE_CODE_DICT[i]for i in message.upper())\n",
    "\n",
    "    for i in message:\n",
    "        if i==\".\":\n",
    "            playsound(\"short.wav\")\n",
    "        elif i==\"-\":\n",
    "            playsound(\"long-beep.wav\")\n",
    "        else:\n",
    "            time.sleep(0.5)\n",
    "\n",
    "    play_morse_code(message)\n",
    "    print(message)\n",
    "\n",
    "def Morse_to_Text():\n",
    "    txt=input(\"plz enter your morse code \")\n",
    "    reverse_dict={k for i in txt.split for k,v in MORSE_CODE_DICT.items()\n",
    "                  if i==v }\n",
    "\n",
    "    new_text=\"\".join(reverse_dict)\n",
    "    print(new_text)\n",
    "\n",
    "    def speak(voice):\n",
    "            engine = pyttsx.init() \n",
    "            rate = engine.getProperty('rate')\n",
    "            engine.setProperty('rate', rate + 1)\n",
    "            engine.setProperty('voice','com.apple.speech.synthesis.voice.Alex')\n",
    "            engine.say(voice)\n",
    "            engine.runAndWait()\n",
    "\n",
    "    speak(new_text)\n",
    "\n",
    "while True :\n",
    "    try:\n",
    "        selection=int(input(\"select your choice: \"))\n",
    "        if selection==1:\n",
    "            print(Text_to_Morse)\n",
    "            break\n",
    "        elif selection==2:\n",
    "            print(Morse_to_Text)\n",
    "            break\n",
    "        else:\n",
    "            print(\"Wrong selection,enter again\")\n",
    "    except:\n",
    "        print(\"Wrong selection,enter again\")\n",
    "\n",
    "\n"
   ]
  },
  {
   "cell_type": "code",
   "execution_count": null,
   "id": "80dfb38c",
   "metadata": {},
   "outputs": [],
   "source": []
  }
 ],
 "metadata": {
  "kernelspec": {
   "display_name": "Python 3 (ipykernel)",
   "language": "python",
   "name": "python3"
  },
  "language_info": {
   "codemirror_mode": {
    "name": "ipython",
    "version": 3
   },
   "file_extension": ".py",
   "mimetype": "text/x-python",
   "name": "python",
   "nbconvert_exporter": "python",
   "pygments_lexer": "ipython3",
   "version": "3.9.12"
  }
 },
 "nbformat": 4,
 "nbformat_minor": 5
}
